{
 "cells": [
  {
   "cell_type": "code",
   "execution_count": 1,
   "id": "295cef30",
   "metadata": {},
   "outputs": [],
   "source": [
    "spark = SparkSession. \\\n",
    "    builder. \\\n",
    "    appName(\"spark session demo\"). \\\n",
    "    config(\"spark.sql.warehouse.dir\", \"C:/Users/Siranjeev/OneDrive/Desktop/spark_files\"). \\\n",
    "    enableHiveSupport(). \\\n",
    "    master(\"local[*]\"). \\\n",
    "    getOrCreate()"
   ]
  },
  {
   "cell_type": "code",
   "execution_count": 15,
   "id": "7dd5a988",
   "metadata": {},
   "outputs": [],
   "source": [
    "product_df = spark.read \\\n",
    ".format(\"csv\") \\\n",
    ".option(\"inferschema\",\"true\") \\\n",
    ".load(\"C:/Users/Siranjeev/OneDrive/Desktop/spark_files/part-00000\")"
   ]
  },
  {
   "cell_type": "code",
   "execution_count": 16,
   "id": "35e632a9",
   "metadata": {},
   "outputs": [
    {
     "name": "stdout",
     "output_type": "stream",
     "text": [
      "+---+---+--------------------+----+------+--------------------+\n",
      "|_c0|_c1|                 _c2| _c3|   _c4|                 _c5|\n",
      "+---+---+--------------------+----+------+--------------------+\n",
      "|  1|  2|Quest Q64 10 FT. ...|null| 59.98|http://images.acm...|\n",
      "|  2|  2|Under Armour Men'...|null|129.99|http://images.acm...|\n",
      "|  3|  2|Under Armour Men'...|null| 89.99|http://images.acm...|\n",
      "|  4|  2|Under Armour Men'...|null| 89.99|http://images.acm...|\n",
      "|  5|  2|Riddell Youth Rev...|null|199.99|http://images.acm...|\n",
      "|  6|  2|Jordan Men's VI R...|null|134.99|http://images.acm...|\n",
      "|  7|  2|Schutt Youth Recr...|null| 99.99|http://images.acm...|\n",
      "|  8|  2|Nike Men's Vapor ...|null|129.99|http://images.acm...|\n",
      "|  9|  2|Nike Adult Vapor ...|null|  50.0|http://images.acm...|\n",
      "| 10|  2|Under Armour Men'...|null|129.99|http://images.acm...|\n",
      "| 11|  2|Fitness Gear 300 ...|null|209.99|http://images.acm...|\n",
      "| 12|  2|Under Armour Men'...|null|139.99|http://images.acm...|\n",
      "| 13|  2|Under Armour Men'...|null| 89.99|http://images.acm...|\n",
      "| 14|  2|Quik Shade Summit...|null|199.99|http://images.acm...|\n",
      "| 15|  2|Under Armour Kids...|null| 59.99|http://images.acm...|\n",
      "| 16|  2|Riddell Youth 360...|null|299.99|http://images.acm...|\n",
      "| 17|  2|Under Armour Men'...|null|129.99|http://images.acm...|\n",
      "| 18|  2|Reebok Men's Full...|null| 29.97|http://images.acm...|\n",
      "| 19|  2|Nike Men's Finger...|null|124.99|http://images.acm...|\n",
      "| 20|  2|Under Armour Men'...|null|129.99|http://images.acm...|\n",
      "+---+---+--------------------+----+------+--------------------+\n",
      "only showing top 20 rows\n",
      "\n"
     ]
    }
   ],
   "source": [
    "product_df.show()"
   ]
  },
  {
   "cell_type": "code",
   "execution_count": 17,
   "id": "8dd5aa86",
   "metadata": {},
   "outputs": [],
   "source": [
    "df1 = product_df.toDF(\"product_id\",\"product_Category_id\",\"product_name\",\"product_description\",\"product_price\",\"product_image\")"
   ]
  },
  {
   "cell_type": "code",
   "execution_count": 18,
   "id": "bbd85d89",
   "metadata": {},
   "outputs": [
    {
     "name": "stdout",
     "output_type": "stream",
     "text": [
      "+----------+-------------------+--------------------+-------------------+-------------+--------------------+\n",
      "|product_id|product_Category_id|        product_name|product_description|product_price|       product_image|\n",
      "+----------+-------------------+--------------------+-------------------+-------------+--------------------+\n",
      "|         1|                  2|Quest Q64 10 FT. ...|               null|        59.98|http://images.acm...|\n",
      "|         2|                  2|Under Armour Men'...|               null|       129.99|http://images.acm...|\n",
      "|         3|                  2|Under Armour Men'...|               null|        89.99|http://images.acm...|\n",
      "|         4|                  2|Under Armour Men'...|               null|        89.99|http://images.acm...|\n",
      "|         5|                  2|Riddell Youth Rev...|               null|       199.99|http://images.acm...|\n",
      "|         6|                  2|Jordan Men's VI R...|               null|       134.99|http://images.acm...|\n",
      "|         7|                  2|Schutt Youth Recr...|               null|        99.99|http://images.acm...|\n",
      "|         8|                  2|Nike Men's Vapor ...|               null|       129.99|http://images.acm...|\n",
      "|         9|                  2|Nike Adult Vapor ...|               null|         50.0|http://images.acm...|\n",
      "|        10|                  2|Under Armour Men'...|               null|       129.99|http://images.acm...|\n",
      "|        11|                  2|Fitness Gear 300 ...|               null|       209.99|http://images.acm...|\n",
      "|        12|                  2|Under Armour Men'...|               null|       139.99|http://images.acm...|\n",
      "|        13|                  2|Under Armour Men'...|               null|        89.99|http://images.acm...|\n",
      "|        14|                  2|Quik Shade Summit...|               null|       199.99|http://images.acm...|\n",
      "|        15|                  2|Under Armour Kids...|               null|        59.99|http://images.acm...|\n",
      "|        16|                  2|Riddell Youth 360...|               null|       299.99|http://images.acm...|\n",
      "|        17|                  2|Under Armour Men'...|               null|       129.99|http://images.acm...|\n",
      "|        18|                  2|Reebok Men's Full...|               null|        29.97|http://images.acm...|\n",
      "|        19|                  2|Nike Men's Finger...|               null|       124.99|http://images.acm...|\n",
      "|        20|                  2|Under Armour Men'...|               null|       129.99|http://images.acm...|\n",
      "+----------+-------------------+--------------------+-------------------+-------------+--------------------+\n",
      "only showing top 20 rows\n",
      "\n"
     ]
    }
   ],
   "source": [
    "df1.show()"
   ]
  },
  {
   "cell_type": "code",
   "execution_count": 19,
   "id": "adf4d85b",
   "metadata": {},
   "outputs": [
    {
     "name": "stdout",
     "output_type": "stream",
     "text": [
      "root\n",
      " |-- product_id: integer (nullable = true)\n",
      " |-- product_Category_id: integer (nullable = true)\n",
      " |-- product_name: string (nullable = true)\n",
      " |-- product_description: string (nullable = true)\n",
      " |-- product_price: double (nullable = true)\n",
      " |-- product_image: string (nullable = true)\n",
      "\n"
     ]
    }
   ],
   "source": [
    "df1.printSchema()"
   ]
  },
  {
   "cell_type": "code",
   "execution_count": 20,
   "id": "eeccef24",
   "metadata": {},
   "outputs": [],
   "source": [
    "df2 = df1.withColumn(\"product_price\",expr(\"product_price * 1.2\"))"
   ]
  },
  {
   "cell_type": "code",
   "execution_count": null,
   "id": "725f0d05",
   "metadata": {},
   "outputs": [],
   "source": []
  }
 ],
 "metadata": {
  "kernelspec": {
   "display_name": "Pyspark 3",
   "language": "python",
   "name": "pyspark3"
  },
  "language_info": {
   "codemirror_mode": {
    "name": "ipython",
    "version": 3
   },
   "file_extension": ".py",
   "mimetype": "text/x-python",
   "name": "python",
   "nbconvert_exporter": "python",
   "pygments_lexer": "ipython3",
   "version": "3.6.12"
  }
 },
 "nbformat": 4,
 "nbformat_minor": 5
}
