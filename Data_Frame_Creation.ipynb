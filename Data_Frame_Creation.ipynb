{
 "cells": [
  {
   "cell_type": "code",
   "execution_count": 1,
   "id": "270bdfcd",
   "metadata": {},
   "outputs": [],
   "source": [
    "from pyspark.sql import SparkSession"
   ]
  },
  {
   "cell_type": "code",
   "execution_count": 2,
   "id": "e33421f5",
   "metadata": {},
   "outputs": [],
   "source": [
    "spark = SparkSession. \\\n",
    "    builder. \\\n",
    "    appName(\"spark session demo\"). \\\n",
    "    config(\"spark.sql.warehouse.dir\", \"C:/Users/Siranjeev/OneDrive/Desktop/spark_files\"). \\\n",
    "    enableHiveSupport(). \\\n",
    "    master(\"local[*]\"). \\\n",
    "    getOrCreate()\n"
   ]
  },
  {
   "cell_type": "code",
   "execution_count": 4,
   "id": "d064cf7f",
   "metadata": {},
   "outputs": [
    {
     "name": "stdout",
     "output_type": "stream",
     "text": [
      "<pyspark.sql.session.SparkSession object at 0x000002E2A8C4F690>\n"
     ]
    }
   ],
   "source": [
    "print(spark)"
   ]
  },
  {
   "cell_type": "code",
   "execution_count": 5,
   "id": "430d2578",
   "metadata": {},
   "outputs": [],
   "source": [
    "spark2= spark.newSession()"
   ]
  },
  {
   "cell_type": "code",
   "execution_count": 6,
   "id": "9bc30a57",
   "metadata": {},
   "outputs": [
    {
     "name": "stdout",
     "output_type": "stream",
     "text": [
      "<pyspark.sql.session.SparkSession object at 0x000002E2A8C8D610>\n"
     ]
    }
   ],
   "source": [
    "print(spark2)"
   ]
  },
  {
   "cell_type": "code",
   "execution_count": 7,
   "id": "1d614523",
   "metadata": {},
   "outputs": [
    {
     "data": {
      "text/html": [
       "\n",
       "            <div>\n",
       "                <p><b>SparkSession - hive</b></p>\n",
       "                \n",
       "        <div>\n",
       "            <p><b>SparkContext</b></p>\n",
       "\n",
       "            <p><a href=\"http://LAPTOP-GV934SMD.attlocal.net:4040\">Spark UI</a></p>\n",
       "\n",
       "            <dl>\n",
       "              <dt>Version</dt>\n",
       "                <dd><code>v3.5.5</code></dd>\n",
       "              <dt>Master</dt>\n",
       "                <dd><code>local[*]</code></dd>\n",
       "              <dt>AppName</dt>\n",
       "                <dd><code>spark session demo</code></dd>\n",
       "            </dl>\n",
       "        </div>\n",
       "        \n",
       "            </div>\n",
       "        "
      ],
      "text/plain": [
       "<pyspark.sql.session.SparkSession at 0x2e2a8c4f690>"
      ]
     },
     "execution_count": 7,
     "metadata": {},
     "output_type": "execute_result"
    }
   ],
   "source": [
    "spark"
   ]
  },
  {
   "cell_type": "code",
   "execution_count": 8,
   "id": "d6dedc9c",
   "metadata": {},
   "outputs": [
    {
     "data": {
      "text/html": [
       "\n",
       "            <div>\n",
       "                <p><b>SparkSession - hive</b></p>\n",
       "                \n",
       "        <div>\n",
       "            <p><b>SparkContext</b></p>\n",
       "\n",
       "            <p><a href=\"http://LAPTOP-GV934SMD.attlocal.net:4040\">Spark UI</a></p>\n",
       "\n",
       "            <dl>\n",
       "              <dt>Version</dt>\n",
       "                <dd><code>v3.5.5</code></dd>\n",
       "              <dt>Master</dt>\n",
       "                <dd><code>local[*]</code></dd>\n",
       "              <dt>AppName</dt>\n",
       "                <dd><code>spark session demo</code></dd>\n",
       "            </dl>\n",
       "        </div>\n",
       "        \n",
       "            </div>\n",
       "        "
      ],
      "text/plain": [
       "<pyspark.sql.session.SparkSession at 0x2e2a8c8d610>"
      ]
     },
     "execution_count": 8,
     "metadata": {},
     "output_type": "execute_result"
    }
   ],
   "source": [
    "spark2"
   ]
  },
  {
   "cell_type": "code",
   "execution_count": 12,
   "id": "82ee7d6f",
   "metadata": {},
   "outputs": [],
   "source": [
    "orders_df = spark.read \\\n",
    ".format(\"csv\") \\\n",
    ".option(\"header\",\"true\") \\\n",
    ".option(\"inferschema\",\"true\") \\\n",
    ".load(\"C:/Users/Siranjeev/OneDrive/Desktop/SPARK/csv_json_files/*\")"
   ]
  },
  {
   "cell_type": "code",
   "execution_count": 13,
   "id": "9be727bf",
   "metadata": {},
   "outputs": [
    {
     "name": "stdout",
     "output_type": "stream",
     "text": [
      "+----------+---------+----------+-----+-----------+----------+--------+----------+---------------------+-------------------------------------------------+--------------+---------+--------------------+--------------+--------------------+--------------------+-----------------+\n",
      "|VIN (1-10)|   County|      City|State|Postal Code|Model Year|    Make|     Model|Electric Vehicle Type|Clean Alternative Fuel Vehicle (CAFV) Eligibility|Electric Range|Base MSRP|Legislative District|DOL Vehicle ID|    Vehicle Location|    Electric Utility|2020 Census Tract|\n",
      "+----------+---------+----------+-----+-----------+----------+--------+----------+---------------------+-------------------------------------------------+--------------+---------+--------------------+--------------+--------------------+--------------------+-----------------+\n",
      "|5YJ3E1EBXK|     King|   Seattle|   WA|      98178|      2019|   TESLA|   MODEL 3| Battery Electric ...|                             Clean Alternative...|           220|        0|                  37|     477309682|POINT (-122.23825...|CITY OF SEATTLE -...|      53033011902|\n",
      "|5YJYGDEE3L|   Kitsap|   Poulsbo|   WA|      98370|      2020|   TESLA|   MODEL Y| Battery Electric ...|                             Clean Alternative...|           291|        0|                  23|     109705683|POINT (-122.64681...|PUGET SOUND ENERG...|      53035091100|\n",
      "|KM8KRDAF5P|   Kitsap|    Olalla|   WA|      98359|      2023| HYUNDAI|   IONIQ 5| Battery Electric ...|                             Eligibility unkno...|             0|        0|                  26|     230390492|POINT (-122.54729...|PUGET SOUND ENERG...|      53035092802|\n",
      "|5UXTA6C0XM|   Kitsap|   Seabeck|   WA|      98380|      2021|     BMW|        X5| Plug-in Hybrid El...|                             Clean Alternative...|            30|        0|                  35|     267929112|POINT (-122.81585...|PUGET SOUND ENERG...|      53035091301|\n",
      "|JTMAB3FV7P| Thurston|   Rainier|   WA|      98576|      2023|  TOYOTA|RAV4 PRIME| Plug-in Hybrid El...|                             Clean Alternative...|            42|        0|                   2|     236505139|POINT (-122.68993...|PUGET SOUND ENERG...|      53067012530|\n",
      "|5YJSA1DN0C| Thurston|   Olympia|   WA|      98502|      2012|   TESLA|   MODEL S| Battery Electric ...|                             Clean Alternative...|           265|    59900|                  22|     186637195|POINT (-122.92333...|PUGET SOUND ENERG...|      53067010600|\n",
      "|WBY1Z6C30H|     King|  Bellevue|   WA|      98004|      2017|     BMW|        I3| Battery Electric ...|                             Clean Alternative...|            81|        0|                  48|     196789610|POINT (-122.1872 ...|PUGET SOUND ENERG...|      53033024001|\n",
      "|3MW5P9J0XN|Snohomish|Marysville|   WA|      98271|      2022|     BMW|      330E| Plug-in Hybrid El...|                             Not eligible due ...|            22|        0|                  39|     204822761|POINT (-122.1677 ...|PUGET SOUND ENERG...|      53061052808|\n",
      "|5YJ3E1EA6J|     King|  Kirkland|   WA|      98034|      2018|   TESLA|   MODEL 3| Battery Electric ...|                             Clean Alternative...|           215|        0|                  45|       2039222|POINT (-122.22901...|PUGET SOUND ENERG...|      53033022205|\n",
      "|5YJ3E1EA2J|     King|   Redmond|   WA|      98052|      2018|   TESLA|   MODEL 3| Battery Electric ...|                             Clean Alternative...|           215|        0|                  45|     474817283|POINT (-122.13158...|PUGET SOUND ENERG...|      53033032321|\n",
      "|1N4AZ0CP1E|     King| Newcastle|   WA|      98059|      2014|  NISSAN|      LEAF| Battery Electric ...|                             Clean Alternative...|            84|        0|                  41|     130630342|POINT (-122.15734...|PUGET SOUND ENERG...|      53033025005|\n",
      "|5YJXCDE27L|     King|   Seattle|   WA|      98125|      2020|   TESLA|   MODEL X| Battery Electric ...|                             Clean Alternative...|           289|        0|                  46|     241435680|POINT (-122.30253...|CITY OF SEATTLE -...|      53033002200|\n",
      "|KNDCC3LD3K|     King|   Seattle|   WA|      98125|      2019|     KIA|      NIRO| Plug-in Hybrid El...|                             Not eligible due ...|            26|        0|                  46|     474771398|POINT (-122.30253...|CITY OF SEATTLE -...|      53033001100|\n",
      "|LPSED3KA8M|     King|   Seattle|   WA|      98125|      2021|POLESTAR|       PS2| Battery Electric ...|                             Clean Alternative...|           233|        0|                  46|     183391526|POINT (-122.30253...|CITY OF SEATTLE -...|      53033002200|\n",
      "|5YJSA1H29F| Thurston|   Olympia|   WA|      98506|      2015|   TESLA|   MODEL S| Battery Electric ...|                             Clean Alternative...|           208|        0|                  22|     241126567|POINT (-122.87741...|PUGET SOUND ENERG...|      53067010300|\n",
      "|WBY7Z6C52J|     King|      Kent|   WA|      98031|      2018|     BMW|        I3| Battery Electric ...|                             Clean Alternative...|           114|        0|                  11|     221792728|POINT (-122.17743...|PUGET SOUND ENERG...|      53033029306|\n",
      "|1N4AZ0CP2G|   Kitsap|    Olalla|   WA|      98359|      2016|  NISSAN|      LEAF| Battery Electric ...|                             Clean Alternative...|            84|        0|                  26|     225541921|POINT (-122.54729...|PUGET SOUND ENERG...|      53035092802|\n",
      "|1N4AZ0CP5F|     King|  Issaquah|   WA|      98029|      2015|  NISSAN|      LEAF| Battery Electric ...|                             Clean Alternative...|            84|        0|                   5|     112393263|POINT (-122.00292...|PUGET SOUND ENERG...|      53033032220|\n",
      "|5UXTA6C01N|Snohomish|   Edmonds|   WA|      98026|      2022|     BMW|        X5| Plug-in Hybrid El...|                             Clean Alternative...|            30|        0|                  21|     197473496|POINT (-122.31768...|PUGET SOUND ENERG...|      53061050101|\n",
      "|5YJ3E1EB5J|   Yakima|    Yakima|   WA|      98908|      2018|   TESLA|   MODEL 3| Battery Electric ...|                             Clean Alternative...|           215|        0|                  14|     301024209|POINT (-120.60272...|          PACIFICORP|      53077002801|\n",
      "+----------+---------+----------+-----+-----------+----------+--------+----------+---------------------+-------------------------------------------------+--------------+---------+--------------------+--------------+--------------------+--------------------+-----------------+\n",
      "only showing top 20 rows\n",
      "\n"
     ]
    }
   ],
   "source": [
    "orders_df.show()"
   ]
  },
  {
   "cell_type": "code",
   "execution_count": 14,
   "id": "0d4d4c9a",
   "metadata": {},
   "outputs": [
    {
     "name": "stdout",
     "output_type": "stream",
     "text": [
      "root\n",
      " |-- VIN (1-10): string (nullable = true)\n",
      " |-- County: string (nullable = true)\n",
      " |-- City: string (nullable = true)\n",
      " |-- State: string (nullable = true)\n",
      " |-- Postal Code: integer (nullable = true)\n",
      " |-- Model Year: integer (nullable = true)\n",
      " |-- Make: string (nullable = true)\n",
      " |-- Model: string (nullable = true)\n",
      " |-- Electric Vehicle Type: string (nullable = true)\n",
      " |-- Clean Alternative Fuel Vehicle (CAFV) Eligibility: string (nullable = true)\n",
      " |-- Electric Range: integer (nullable = true)\n",
      " |-- Base MSRP: integer (nullable = true)\n",
      " |-- Legislative District: integer (nullable = true)\n",
      " |-- DOL Vehicle ID: integer (nullable = true)\n",
      " |-- Vehicle Location: string (nullable = true)\n",
      " |-- Electric Utility: string (nullable = true)\n",
      " |-- 2020 Census Tract: long (nullable = true)\n",
      "\n"
     ]
    }
   ],
   "source": [
    "orders_df.printSchema()"
   ]
  },
  {
   "cell_type": "code",
   "execution_count": 15,
   "id": "24884523",
   "metadata": {},
   "outputs": [],
   "source": [
    "df = spark.read \\\n",
    ".format(\"csv\") \\\n",
    ".load(\"C:/Users/Siranjeev/OneDrive/Desktop/SPARK/csv_json_files/Electric_Vehicle_Population_Data.csv\")"
   ]
  },
  {
   "cell_type": "code",
   "execution_count": 16,
   "id": "b1cb55b5",
   "metadata": {},
   "outputs": [
    {
     "name": "stdout",
     "output_type": "stream",
     "text": [
      "+----------+---------+----------+-----+-----------+----------+--------+----------+--------------------+--------------------+--------------+---------+--------------------+--------------+--------------------+--------------------+-----------------+\n",
      "|       _c0|      _c1|       _c2|  _c3|        _c4|       _c5|     _c6|       _c7|                 _c8|                 _c9|          _c10|     _c11|                _c12|          _c13|                _c14|                _c15|             _c16|\n",
      "+----------+---------+----------+-----+-----------+----------+--------+----------+--------------------+--------------------+--------------+---------+--------------------+--------------+--------------------+--------------------+-----------------+\n",
      "|VIN (1-10)|   County|      City|State|Postal Code|Model Year|    Make|     Model|Electric Vehicle ...|Clean Alternative...|Electric Range|Base MSRP|Legislative District|DOL Vehicle ID|    Vehicle Location|    Electric Utility|2020 Census Tract|\n",
      "|5YJ3E1EBXK|     King|   Seattle|   WA|      98178|      2019|   TESLA|   MODEL 3|Battery Electric ...|Clean Alternative...|           220|        0|                  37|     477309682|POINT (-122.23825...|CITY OF SEATTLE -...|      53033011902|\n",
      "|5YJYGDEE3L|   Kitsap|   Poulsbo|   WA|      98370|      2020|   TESLA|   MODEL Y|Battery Electric ...|Clean Alternative...|           291|        0|                  23|     109705683|POINT (-122.64681...|PUGET SOUND ENERG...|      53035091100|\n",
      "|KM8KRDAF5P|   Kitsap|    Olalla|   WA|      98359|      2023| HYUNDAI|   IONIQ 5|Battery Electric ...|Eligibility unkno...|             0|        0|                  26|     230390492|POINT (-122.54729...|PUGET SOUND ENERG...|      53035092802|\n",
      "|5UXTA6C0XM|   Kitsap|   Seabeck|   WA|      98380|      2021|     BMW|        X5|Plug-in Hybrid El...|Clean Alternative...|            30|        0|                  35|     267929112|POINT (-122.81585...|PUGET SOUND ENERG...|      53035091301|\n",
      "|JTMAB3FV7P| Thurston|   Rainier|   WA|      98576|      2023|  TOYOTA|RAV4 PRIME|Plug-in Hybrid El...|Clean Alternative...|            42|        0|                   2|     236505139|POINT (-122.68993...|PUGET SOUND ENERG...|      53067012530|\n",
      "|5YJSA1DN0C| Thurston|   Olympia|   WA|      98502|      2012|   TESLA|   MODEL S|Battery Electric ...|Clean Alternative...|           265|    59900|                  22|     186637195|POINT (-122.92333...|PUGET SOUND ENERG...|      53067010600|\n",
      "|WBY1Z6C30H|     King|  Bellevue|   WA|      98004|      2017|     BMW|        I3|Battery Electric ...|Clean Alternative...|            81|        0|                  48|     196789610|POINT (-122.1872 ...|PUGET SOUND ENERG...|      53033024001|\n",
      "|3MW5P9J0XN|Snohomish|Marysville|   WA|      98271|      2022|     BMW|      330E|Plug-in Hybrid El...|Not eligible due ...|            22|        0|                  39|     204822761|POINT (-122.1677 ...|PUGET SOUND ENERG...|      53061052808|\n",
      "|5YJ3E1EA6J|     King|  Kirkland|   WA|      98034|      2018|   TESLA|   MODEL 3|Battery Electric ...|Clean Alternative...|           215|        0|                  45|       2039222|POINT (-122.22901...|PUGET SOUND ENERG...|      53033022205|\n",
      "|5YJ3E1EA2J|     King|   Redmond|   WA|      98052|      2018|   TESLA|   MODEL 3|Battery Electric ...|Clean Alternative...|           215|        0|                  45|     474817283|POINT (-122.13158...|PUGET SOUND ENERG...|      53033032321|\n",
      "|1N4AZ0CP1E|     King| Newcastle|   WA|      98059|      2014|  NISSAN|      LEAF|Battery Electric ...|Clean Alternative...|            84|        0|                  41|     130630342|POINT (-122.15734...|PUGET SOUND ENERG...|      53033025005|\n",
      "|5YJXCDE27L|     King|   Seattle|   WA|      98125|      2020|   TESLA|   MODEL X|Battery Electric ...|Clean Alternative...|           289|        0|                  46|     241435680|POINT (-122.30253...|CITY OF SEATTLE -...|      53033002200|\n",
      "|KNDCC3LD3K|     King|   Seattle|   WA|      98125|      2019|     KIA|      NIRO|Plug-in Hybrid El...|Not eligible due ...|            26|        0|                  46|     474771398|POINT (-122.30253...|CITY OF SEATTLE -...|      53033001100|\n",
      "|LPSED3KA8M|     King|   Seattle|   WA|      98125|      2021|POLESTAR|       PS2|Battery Electric ...|Clean Alternative...|           233|        0|                  46|     183391526|POINT (-122.30253...|CITY OF SEATTLE -...|      53033002200|\n",
      "|5YJSA1H29F| Thurston|   Olympia|   WA|      98506|      2015|   TESLA|   MODEL S|Battery Electric ...|Clean Alternative...|           208|        0|                  22|     241126567|POINT (-122.87741...|PUGET SOUND ENERG...|      53067010300|\n",
      "|WBY7Z6C52J|     King|      Kent|   WA|      98031|      2018|     BMW|        I3|Battery Electric ...|Clean Alternative...|           114|        0|                  11|     221792728|POINT (-122.17743...|PUGET SOUND ENERG...|      53033029306|\n",
      "|1N4AZ0CP2G|   Kitsap|    Olalla|   WA|      98359|      2016|  NISSAN|      LEAF|Battery Electric ...|Clean Alternative...|            84|        0|                  26|     225541921|POINT (-122.54729...|PUGET SOUND ENERG...|      53035092802|\n",
      "|1N4AZ0CP5F|     King|  Issaquah|   WA|      98029|      2015|  NISSAN|      LEAF|Battery Electric ...|Clean Alternative...|            84|        0|                   5|     112393263|POINT (-122.00292...|PUGET SOUND ENERG...|      53033032220|\n",
      "|5UXTA6C01N|Snohomish|   Edmonds|   WA|      98026|      2022|     BMW|        X5|Plug-in Hybrid El...|Clean Alternative...|            30|        0|                  21|     197473496|POINT (-122.31768...|PUGET SOUND ENERG...|      53061050101|\n",
      "+----------+---------+----------+-----+-----------+----------+--------+----------+--------------------+--------------------+--------------+---------+--------------------+--------------+--------------------+--------------------+-----------------+\n",
      "only showing top 20 rows\n",
      "\n"
     ]
    }
   ],
   "source": [
    "df.show()"
   ]
  },
  {
   "cell_type": "code",
   "execution_count": 17,
   "id": "8618764a",
   "metadata": {},
   "outputs": [],
   "source": [
    "order_schema = 'VIN string , country string, city string, state '"
   ]
  },
  {
   "cell_type": "code",
   "execution_count": 19,
   "id": "ebf38328",
   "metadata": {},
   "outputs": [],
   "source": [
    "df1 = spark.read \\\n",
    ".format(\"csv\") \\\n",
    ".schema(order_schema) \\\n",
    ".load(\"C:/Users/Siranjeev/OneDrive/Desktop/SPARK/csv_json_files/Electric_Vehicle_Population_Data.csv\")"
   ]
  },
  {
   "cell_type": "code",
   "execution_count": 20,
   "id": "9f5947b7",
   "metadata": {},
   "outputs": [
    {
     "name": "stdout",
     "output_type": "stream",
     "text": [
      "+----------+---------+----------+-----+\n",
      "|       VIN|  country|      city|state|\n",
      "+----------+---------+----------+-----+\n",
      "|VIN (1-10)|   County|      City|State|\n",
      "|5YJ3E1EBXK|     King|   Seattle|   WA|\n",
      "|5YJYGDEE3L|   Kitsap|   Poulsbo|   WA|\n",
      "|KM8KRDAF5P|   Kitsap|    Olalla|   WA|\n",
      "|5UXTA6C0XM|   Kitsap|   Seabeck|   WA|\n",
      "|JTMAB3FV7P| Thurston|   Rainier|   WA|\n",
      "|5YJSA1DN0C| Thurston|   Olympia|   WA|\n",
      "|WBY1Z6C30H|     King|  Bellevue|   WA|\n",
      "|3MW5P9J0XN|Snohomish|Marysville|   WA|\n",
      "|5YJ3E1EA6J|     King|  Kirkland|   WA|\n",
      "|5YJ3E1EA2J|     King|   Redmond|   WA|\n",
      "|1N4AZ0CP1E|     King| Newcastle|   WA|\n",
      "|5YJXCDE27L|     King|   Seattle|   WA|\n",
      "|KNDCC3LD3K|     King|   Seattle|   WA|\n",
      "|LPSED3KA8M|     King|   Seattle|   WA|\n",
      "|5YJSA1H29F| Thurston|   Olympia|   WA|\n",
      "|WBY7Z6C52J|     King|      Kent|   WA|\n",
      "|1N4AZ0CP2G|   Kitsap|    Olalla|   WA|\n",
      "|1N4AZ0CP5F|     King|  Issaquah|   WA|\n",
      "|5UXTA6C01N|Snohomish|   Edmonds|   WA|\n",
      "+----------+---------+----------+-----+\n",
      "only showing top 20 rows\n",
      "\n"
     ]
    }
   ],
   "source": [
    "df1.show()"
   ]
  },
  {
   "cell_type": "code",
   "execution_count": 21,
   "id": "4396cef1",
   "metadata": {},
   "outputs": [
    {
     "name": "stdout",
     "output_type": "stream",
     "text": [
      "root\n",
      " |-- VIN: string (nullable = true)\n",
      " |-- country: string (nullable = true)\n",
      " |-- city: string (nullable = true)\n",
      " |-- state: string (nullable = true)\n",
      "\n"
     ]
    }
   ],
   "source": [
    "df1.printSchema()"
   ]
  },
  {
   "cell_type": "code",
   "execution_count": 22,
   "id": "3f817f97",
   "metadata": {},
   "outputs": [],
   "source": [
    "from pyspark.sql.types import *"
   ]
  },
  {
   "cell_type": "code",
   "execution_count": 23,
   "id": "430f9ec1",
   "metadata": {},
   "outputs": [],
   "source": [
    "orders_schema_struct = StructType([\n",
    "StructField(\"VIN\", StringType()),\n",
    "StructField(\"country\",StringType()),\n",
    "StructField(\"city\", StringType()),\n",
    "StructField(\"state\", StringType()),\n",
    "])"
   ]
  },
  {
   "cell_type": "code",
   "execution_count": 24,
   "id": "079eec33",
   "metadata": {},
   "outputs": [],
   "source": [
    "df1 = spark.read \\\n",
    ".format(\"csv\") \\\n",
    ".schema(orders_schema_struct) \\\n",
    ".load(\"C:/Users/Siranjeev/OneDrive/Desktop/SPARK/csv_json_files/Electric_Vehicle_Population_Data.csv\")"
   ]
  },
  {
   "cell_type": "code",
   "execution_count": 25,
   "id": "a67ef9dc",
   "metadata": {},
   "outputs": [
    {
     "name": "stdout",
     "output_type": "stream",
     "text": [
      "+----------+---------+----------+-----+\n",
      "|       VIN|  country|      city|state|\n",
      "+----------+---------+----------+-----+\n",
      "|VIN (1-10)|   County|      City|State|\n",
      "|5YJ3E1EBXK|     King|   Seattle|   WA|\n",
      "|5YJYGDEE3L|   Kitsap|   Poulsbo|   WA|\n",
      "|KM8KRDAF5P|   Kitsap|    Olalla|   WA|\n",
      "|5UXTA6C0XM|   Kitsap|   Seabeck|   WA|\n",
      "|JTMAB3FV7P| Thurston|   Rainier|   WA|\n",
      "|5YJSA1DN0C| Thurston|   Olympia|   WA|\n",
      "|WBY1Z6C30H|     King|  Bellevue|   WA|\n",
      "|3MW5P9J0XN|Snohomish|Marysville|   WA|\n",
      "|5YJ3E1EA6J|     King|  Kirkland|   WA|\n",
      "|5YJ3E1EA2J|     King|   Redmond|   WA|\n",
      "|1N4AZ0CP1E|     King| Newcastle|   WA|\n",
      "|5YJXCDE27L|     King|   Seattle|   WA|\n",
      "|KNDCC3LD3K|     King|   Seattle|   WA|\n",
      "|LPSED3KA8M|     King|   Seattle|   WA|\n",
      "|5YJSA1H29F| Thurston|   Olympia|   WA|\n",
      "|WBY7Z6C52J|     King|      Kent|   WA|\n",
      "|1N4AZ0CP2G|   Kitsap|    Olalla|   WA|\n",
      "|1N4AZ0CP5F|     King|  Issaquah|   WA|\n",
      "|5UXTA6C01N|Snohomish|   Edmonds|   WA|\n",
      "+----------+---------+----------+-----+\n",
      "only showing top 20 rows\n",
      "\n"
     ]
    }
   ],
   "source": [
    "df1.show()"
   ]
  },
  {
   "cell_type": "code",
   "execution_count": null,
   "id": "1880b78d",
   "metadata": {},
   "outputs": [],
   "source": []
  }
 ],
 "metadata": {
  "kernelspec": {
   "display_name": "Python 3 (ipykernel)",
   "language": "python",
   "name": "python3"
  },
  "language_info": {
   "codemirror_mode": {
    "name": "ipython",
    "version": 3
   },
   "file_extension": ".py",
   "mimetype": "text/x-python",
   "name": "python",
   "nbconvert_exporter": "python",
   "pygments_lexer": "ipython3",
   "version": "3.11.4"
  }
 },
 "nbformat": 4,
 "nbformat_minor": 5
}
