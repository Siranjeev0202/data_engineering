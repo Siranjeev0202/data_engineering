{
 "cells": [
  {
   "cell_type": "code",
   "execution_count": 1,
   "id": "6f8ae465",
   "metadata": {},
   "outputs": [],
   "source": [
    "from pyspark.sql import SparkSession\n",
    "import getpass\n",
    "username = getpass.getuser()\n",
    "spark = SparkSession. \\\n",
    "    builder. \\\n",
    "    appName(\"spark session demo\"). \\\n",
    "    config(\"spark.sql.warehouse.dir\", \"C:/Users/Siranjeev/OneDrive/Desktop/spark_files\"). \\\n",
    "    enableHiveSupport(). \\\n",
    "    master(\"local[*]\"). \\\n",
    "    getOrCreate()"
   ]
  },
  {
   "cell_type": "code",
   "execution_count": 3,
   "id": "afbfad84",
   "metadata": {},
   "outputs": [],
   "source": [
    "orders_schema = 'order_id long, order_date date, customer_id long, order_status string'"
   ]
  },
  {
   "cell_type": "code",
   "execution_count": 5,
   "id": "7da1cdce",
   "metadata": {},
   "outputs": [],
   "source": [
    "orders_df = spark.read \\\n",
    ".format('csv') \\\n",
    ".schema(orders_schema) \\\n",
    ".load('C:/Users/Siranjeev/OneDrive/Desktop/SPARK/csv_json_files/*')"
   ]
  },
  {
   "cell_type": "code",
   "execution_count": 21,
   "id": "c568a07f",
   "metadata": {},
   "outputs": [
    {
     "name": "stdout",
     "output_type": "stream",
     "text": [
      "root\n",
      " |-- order_id: long (nullable = true)\n",
      " |-- order_date: date (nullable = true)\n",
      " |-- customer_id: long (nullable = true)\n",
      " |-- order_status: string (nullable = true)\n",
      "\n"
     ]
    }
   ],
   "source": [
    "orders_df.printSchema()"
   ]
  },
  {
   "cell_type": "code",
   "execution_count": 22,
   "id": "3a194408",
   "metadata": {},
   "outputs": [
    {
     "data": {
      "text/plain": [
       "25831125"
      ]
     },
     "execution_count": 22,
     "metadata": {},
     "output_type": "execute_result"
    }
   ],
   "source": [
    "orders_df.count()"
   ]
  },
  {
   "cell_type": "code",
   "execution_count": null,
   "id": "8e784c10",
   "metadata": {},
   "outputs": [],
   "source": [
    "orders_df.distinct().count()"
   ]
  },
  {
   "cell_type": "code",
   "execution_count": null,
   "id": "5d9555d6",
   "metadata": {},
   "outputs": [],
   "source": [
    "cached_orders = orders_df.cache()"
   ]
  }
 ],
 "metadata": {
  "kernelspec": {
   "display_name": "Pyspark 2",
   "language": "python",
   "name": "pyspark2"
  },
  "language_info": {
   "codemirror_mode": {
    "name": "ipython",
    "version": 3
   },
   "file_extension": ".py",
   "mimetype": "text/x-python",
   "name": "python",
   "nbconvert_exporter": "python",
   "pygments_lexer": "ipython3",
   "version": "3.6.12"
  }
 },
 "nbformat": 4,
 "nbformat_minor": 5
}
