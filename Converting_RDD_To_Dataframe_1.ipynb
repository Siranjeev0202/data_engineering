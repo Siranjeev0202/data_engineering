{
 "cells": [
  {
   "cell_type": "code",
   "execution_count": 1,
   "id": "46ff960d",
   "metadata": {},
   "outputs": [],
   "source": [
    "spark = SparkSession. \\\n",
    "    builder. \\\n",
    "    appName(\"spark session demo\"). \\\n",
    "    config(\"spark.sql.warehouse.dir\", \"C:/Users/Siranjeev/OneDrive/Desktop/spark_files\"). \\\n",
    "    enableHiveSupport(). \\\n",
    "    master(\"local[*]\"). \\\n",
    "    getOrCreate()"
   ]
  },
  {
   "cell_type": "code",
   "execution_count": null,
   "id": "aa945308",
   "metadata": {},
   "outputs": [],
   "source": [
    "#Converting RDD to Dataframe"
   ]
  },
  {
   "cell_type": "code",
   "execution_count": 21,
   "id": "a81b43bc",
   "metadata": {},
   "outputs": [],
   "source": [
    "orders_rdd = spark.sparkContext.textFile(\"/Users/Siranjeev/OneDrive/Desktop/spark_files/part-00000\")"
   ]
  },
  {
   "cell_type": "code",
   "execution_count": 22,
   "id": "f4d9fb56",
   "metadata": {},
   "outputs": [
    {
     "data": {
      "text/plain": [
       "['1,2013-07-25 00:00:00.0,11599,CLOSED',\n",
       " '2,2013-07-25 00:00:00.0,256,PENDING_PAYMENT',\n",
       " '3,2013-07-25 00:00:00.0,12111,COMPLETE',\n",
       " '4,2013-07-25 00:00:00.0,8827,CLOSED',\n",
       " '5,2013-07-25 00:00:00.0,11318,COMPLETE']"
      ]
     },
     "execution_count": 22,
     "metadata": {},
     "output_type": "execute_result"
    }
   ],
   "source": [
    "orders_rdd.take(5)"
   ]
  },
  {
   "cell_type": "code",
   "execution_count": 23,
   "id": "0dbe3b1a",
   "metadata": {},
   "outputs": [],
   "source": [
    "new_ordered_rdd = orders_rdd.map(lambda x: (int(x.split(\",\")[0]),x.split(\",\")[1],(x.split(\",\")[2]),x.split(\",\")[3]))"
   ]
  },
  {
   "cell_type": "code",
   "execution_count": 24,
   "id": "3e2eac9a",
   "metadata": {},
   "outputs": [
    {
     "data": {
      "text/plain": [
       "[(1, '2013-07-25 00:00:00.0', '11599', 'CLOSED'),\n",
       " (2, '2013-07-25 00:00:00.0', '256', 'PENDING_PAYMENT'),\n",
       " (3, '2013-07-25 00:00:00.0', '12111', 'COMPLETE'),\n",
       " (4, '2013-07-25 00:00:00.0', '8827', 'CLOSED'),\n",
       " (5, '2013-07-25 00:00:00.0', '11318', 'COMPLETE')]"
      ]
     },
     "execution_count": 24,
     "metadata": {},
     "output_type": "execute_result"
    }
   ],
   "source": [
    "new_ordered_rdd.take(5)"
   ]
  },
  {
   "cell_type": "code",
   "execution_count": 25,
   "id": "df17e761",
   "metadata": {},
   "outputs": [],
   "source": [
    "orders_schema = ('order_id long', 'order_date string', 'cust_id integer', 'orderstatus string')"
   ]
  },
  {
   "cell_type": "code",
   "execution_count": 26,
   "id": "c4f7426a",
   "metadata": {},
   "outputs": [],
   "source": [
    "df = spark.createDataFrame(new_ordered_rdd,orders_schema)"
   ]
  },
  {
   "cell_type": "code",
   "execution_count": 27,
   "id": "d0a69e91",
   "metadata": {},
   "outputs": [
    {
     "name": "stdout",
     "output_type": "stream",
     "text": [
      "+-------------+--------------------+---------------+------------------+\n",
      "|order_id long|   order_date string|cust_id integer|orderstatus string|\n",
      "+-------------+--------------------+---------------+------------------+\n",
      "|            1|2013-07-25 00:00:...|          11599|            CLOSED|\n",
      "|            2|2013-07-25 00:00:...|            256|   PENDING_PAYMENT|\n",
      "|            3|2013-07-25 00:00:...|          12111|          COMPLETE|\n",
      "|            4|2013-07-25 00:00:...|           8827|            CLOSED|\n",
      "|            5|2013-07-25 00:00:...|          11318|          COMPLETE|\n",
      "|            6|2013-07-25 00:00:...|           7130|          COMPLETE|\n",
      "|            7|2013-07-25 00:00:...|           4530|          COMPLETE|\n",
      "|            8|2013-07-25 00:00:...|           2911|        PROCESSING|\n",
      "|            9|2013-07-25 00:00:...|           5657|   PENDING_PAYMENT|\n",
      "|           10|2013-07-25 00:00:...|           5648|   PENDING_PAYMENT|\n",
      "|           11|2013-07-25 00:00:...|            918|    PAYMENT_REVIEW|\n",
      "|           12|2013-07-25 00:00:...|           1837|            CLOSED|\n",
      "|           13|2013-07-25 00:00:...|           9149|   PENDING_PAYMENT|\n",
      "|           14|2013-07-25 00:00:...|           9842|        PROCESSING|\n",
      "|           15|2013-07-25 00:00:...|           2568|          COMPLETE|\n",
      "|           16|2013-07-25 00:00:...|           7276|   PENDING_PAYMENT|\n",
      "|           17|2013-07-25 00:00:...|           2667|          COMPLETE|\n",
      "|           18|2013-07-25 00:00:...|           1205|            CLOSED|\n",
      "|           19|2013-07-25 00:00:...|           9488|   PENDING_PAYMENT|\n",
      "|           20|2013-07-25 00:00:...|           9198|        PROCESSING|\n",
      "+-------------+--------------------+---------------+------------------+\n",
      "only showing top 20 rows\n",
      "\n"
     ]
    }
   ],
   "source": [
    "df.show()"
   ]
  },
  {
   "cell_type": "code",
   "execution_count": 28,
   "id": "752477ee",
   "metadata": {},
   "outputs": [
    {
     "name": "stdout",
     "output_type": "stream",
     "text": [
      "root\n",
      " |-- order_id long: long (nullable = true)\n",
      " |-- order_date string: string (nullable = true)\n",
      " |-- cust_id integer: string (nullable = true)\n",
      " |-- orderstatus string: string (nullable = true)\n",
      "\n"
     ]
    }
   ],
   "source": [
    "df.printSchema()"
   ]
  },
  {
   "cell_type": "code",
   "execution_count": 29,
   "id": "e783e912",
   "metadata": {},
   "outputs": [],
   "source": [
    "new_df = spark.createDataFrame(new_ordered_rdd).toDF('order_id', 'order_date', 'cust_id', 'order_status')"
   ]
  },
  {
   "cell_type": "code",
   "execution_count": 30,
   "id": "cef36c6a",
   "metadata": {},
   "outputs": [
    {
     "name": "stdout",
     "output_type": "stream",
     "text": [
      "+--------+--------------------+-------+---------------+\n",
      "|order_id|          order_date|cust_id|   order_status|\n",
      "+--------+--------------------+-------+---------------+\n",
      "|       1|2013-07-25 00:00:...|  11599|         CLOSED|\n",
      "|       2|2013-07-25 00:00:...|    256|PENDING_PAYMENT|\n",
      "|       3|2013-07-25 00:00:...|  12111|       COMPLETE|\n",
      "|       4|2013-07-25 00:00:...|   8827|         CLOSED|\n",
      "|       5|2013-07-25 00:00:...|  11318|       COMPLETE|\n",
      "|       6|2013-07-25 00:00:...|   7130|       COMPLETE|\n",
      "|       7|2013-07-25 00:00:...|   4530|       COMPLETE|\n",
      "|       8|2013-07-25 00:00:...|   2911|     PROCESSING|\n",
      "|       9|2013-07-25 00:00:...|   5657|PENDING_PAYMENT|\n",
      "|      10|2013-07-25 00:00:...|   5648|PENDING_PAYMENT|\n",
      "|      11|2013-07-25 00:00:...|    918| PAYMENT_REVIEW|\n",
      "|      12|2013-07-25 00:00:...|   1837|         CLOSED|\n",
      "|      13|2013-07-25 00:00:...|   9149|PENDING_PAYMENT|\n",
      "|      14|2013-07-25 00:00:...|   9842|     PROCESSING|\n",
      "|      15|2013-07-25 00:00:...|   2568|       COMPLETE|\n",
      "|      16|2013-07-25 00:00:...|   7276|PENDING_PAYMENT|\n",
      "|      17|2013-07-25 00:00:...|   2667|       COMPLETE|\n",
      "|      18|2013-07-25 00:00:...|   1205|         CLOSED|\n",
      "|      19|2013-07-25 00:00:...|   9488|PENDING_PAYMENT|\n",
      "|      20|2013-07-25 00:00:...|   9198|     PROCESSING|\n",
      "+--------+--------------------+-------+---------------+\n",
      "only showing top 20 rows\n",
      "\n"
     ]
    }
   ],
   "source": [
    "new_df.show()"
   ]
  },
  {
   "cell_type": "code",
   "execution_count": 31,
   "id": "36f951fa",
   "metadata": {},
   "outputs": [
    {
     "name": "stdout",
     "output_type": "stream",
     "text": [
      "root\n",
      " |-- order_id: long (nullable = true)\n",
      " |-- order_date: string (nullable = true)\n",
      " |-- cust_id: string (nullable = true)\n",
      " |-- order_status: string (nullable = true)\n",
      "\n"
     ]
    }
   ],
   "source": [
    "new_df.printSchema()"
   ]
  },
  {
   "cell_type": "code",
   "execution_count": 32,
   "id": "aec12e50",
   "metadata": {},
   "outputs": [],
   "source": [
    "df = new_ordered_rdd.toDF(orders_schema)"
   ]
  },
  {
   "cell_type": "code",
   "execution_count": 33,
   "id": "d38ab61b",
   "metadata": {},
   "outputs": [
    {
     "name": "stdout",
     "output_type": "stream",
     "text": [
      "+-------------+--------------------+---------------+------------------+\n",
      "|order_id long|   order_date string|cust_id integer|orderstatus string|\n",
      "+-------------+--------------------+---------------+------------------+\n",
      "|            1|2013-07-25 00:00:...|          11599|            CLOSED|\n",
      "|            2|2013-07-25 00:00:...|            256|   PENDING_PAYMENT|\n",
      "|            3|2013-07-25 00:00:...|          12111|          COMPLETE|\n",
      "|            4|2013-07-25 00:00:...|           8827|            CLOSED|\n",
      "|            5|2013-07-25 00:00:...|          11318|          COMPLETE|\n",
      "|            6|2013-07-25 00:00:...|           7130|          COMPLETE|\n",
      "|            7|2013-07-25 00:00:...|           4530|          COMPLETE|\n",
      "|            8|2013-07-25 00:00:...|           2911|        PROCESSING|\n",
      "|            9|2013-07-25 00:00:...|           5657|   PENDING_PAYMENT|\n",
      "|           10|2013-07-25 00:00:...|           5648|   PENDING_PAYMENT|\n",
      "|           11|2013-07-25 00:00:...|            918|    PAYMENT_REVIEW|\n",
      "|           12|2013-07-25 00:00:...|           1837|            CLOSED|\n",
      "|           13|2013-07-25 00:00:...|           9149|   PENDING_PAYMENT|\n",
      "|           14|2013-07-25 00:00:...|           9842|        PROCESSING|\n",
      "|           15|2013-07-25 00:00:...|           2568|          COMPLETE|\n",
      "|           16|2013-07-25 00:00:...|           7276|   PENDING_PAYMENT|\n",
      "|           17|2013-07-25 00:00:...|           2667|          COMPLETE|\n",
      "|           18|2013-07-25 00:00:...|           1205|            CLOSED|\n",
      "|           19|2013-07-25 00:00:...|           9488|   PENDING_PAYMENT|\n",
      "|           20|2013-07-25 00:00:...|           9198|        PROCESSING|\n",
      "+-------------+--------------------+---------------+------------------+\n",
      "only showing top 20 rows\n",
      "\n"
     ]
    }
   ],
   "source": [
    "df.show()"
   ]
  },
  {
   "cell_type": "code",
   "execution_count": null,
   "id": "56a5e445",
   "metadata": {},
   "outputs": [],
   "source": []
  }
 ],
 "metadata": {
  "kernelspec": {
   "display_name": "Pyspark 3",
   "language": "python",
   "name": "pyspark3"
  },
  "language_info": {
   "codemirror_mode": {
    "name": "ipython",
    "version": 3
   },
   "file_extension": ".py",
   "mimetype": "text/x-python",
   "name": "python",
   "nbconvert_exporter": "python",
   "pygments_lexer": "ipython3",
   "version": "3.6.12"
  }
 },
 "nbformat": 4,
 "nbformat_minor": 5
}
