{
 "cells": [
  {
   "cell_type": "code",
   "execution_count": 1,
   "id": "63210081",
   "metadata": {},
   "outputs": [],
   "source": [
    "spark = SparkSession. \\\n",
    "    builder. \\\n",
    "    appName(\"spark session demo\"). \\\n",
    "    config(\"spark.sql.warehouse.dir\", \"C:/Users/Siranjeev/OneDrive/Desktop/spark_files\"). \\\n",
    "    enableHiveSupport(). \\\n",
    "    master(\"local[*]\"). \\\n",
    "    getOrCreate()"
   ]
  },
  {
   "cell_type": "code",
   "execution_count": null,
   "id": "1af1c64d",
   "metadata": {},
   "outputs": [],
   "source": [
    "#Converting RDD to Dataframe"
   ]
  },
  {
   "cell_type": "code",
   "execution_count": 21,
   "id": "87461907",
   "metadata": {},
   "outputs": [],
   "source": [
    "orders_rdd = spark.sparkContext.textFile(\"/public/trendytech/retail_db/orders/part-00000\")"
   ]
  },
  {
   "cell_type": "code",
   "execution_count": 22,
   "id": "af223cb9",
   "metadata": {},
   "outputs": [
    {
     "data": {
      "text/plain": [
       "['1,2013-07-25 00:00:00.0,11599,CLOSED',\n",
       " '2,2013-07-25 00:00:00.0,256,PENDING_PAYMENT',\n",
       " '3,2013-07-25 00:00:00.0,12111,COMPLETE',\n",
       " '4,2013-07-25 00:00:00.0,8827,CLOSED',\n",
       " '5,2013-07-25 00:00:00.0,11318,COMPLETE']"
      ]
     },
     "execution_count": 22,
     "metadata": {},
     "output_type": "execute_result"
    }
   ],
   "source": [
    "orders_rdd.take(5)"
   ]
  },
  {
   "cell_type": "code",
   "execution_count": 23,
   "id": "9003a99e",
   "metadata": {},
   "outputs": [],
   "source": [
    "new_ordered_rdd = orders_rdd.map(lambda x: (int(x.split(\",\")[0]),x.split(\",\")[1],(x.split(\",\")[2]),x.split(\",\")[3]))"
   ]
  },
  {
   "cell_type": "code",
   "execution_count": 24,
   "id": "2cdcc174",
   "metadata": {},
   "outputs": [
    {
     "data": {
      "text/plain": [
       "[(1, '2013-07-25 00:00:00.0', '11599', 'CLOSED'),\n",
       " (2, '2013-07-25 00:00:00.0', '256', 'PENDING_PAYMENT'),\n",
       " (3, '2013-07-25 00:00:00.0', '12111', 'COMPLETE'),\n",
       " (4, '2013-07-25 00:00:00.0', '8827', 'CLOSED'),\n",
       " (5, '2013-07-25 00:00:00.0', '11318', 'COMPLETE')]"
      ]
     },
     "execution_count": 24,
     "metadata": {},
     "output_type": "execute_result"
    }
   ],
   "source": [
    "new_ordered_rdd.take(5)"
   ]
  },
  {
   "cell_type": "code",
   "execution_count": 25,
   "id": "848b594f",
   "metadata": {},
   "outputs": [],
   "source": [
    "orders_schema = ('order_id long', 'order_date string', 'cust_id integer', 'orderstatus string')"
   ]
  },
  {
   "cell_type": "code",
   "execution_count": 26,
   "id": "a9364d4d",
   "metadata": {},
   "outputs": [],
   "source": [
    "df = spark.createDataFrame(new_ordered_rdd,orders_schema)"
   ]
  },
  {
   "cell_type": "code",
   "execution_count": 27,
   "id": "b80305de",
   "metadata": {},
   "outputs": [
    {
     "name": "stdout",
     "output_type": "stream",
     "text": [
      "+-------------+--------------------+---------------+------------------+\n",
      "|order_id long|   order_date string|cust_id integer|orderstatus string|\n",
      "+-------------+--------------------+---------------+------------------+\n",
      "|            1|2013-07-25 00:00:...|          11599|            CLOSED|\n",
      "|            2|2013-07-25 00:00:...|            256|   PENDING_PAYMENT|\n",
      "|            3|2013-07-25 00:00:...|          12111|          COMPLETE|\n",
      "|            4|2013-07-25 00:00:...|           8827|            CLOSED|\n",
      "|            5|2013-07-25 00:00:...|          11318|          COMPLETE|\n",
      "|            6|2013-07-25 00:00:...|           7130|          COMPLETE|\n",
      "|            7|2013-07-25 00:00:...|           4530|          COMPLETE|\n",
      "|            8|2013-07-25 00:00:...|           2911|        PROCESSING|\n",
      "|            9|2013-07-25 00:00:...|           5657|   PENDING_PAYMENT|\n",
      "|           10|2013-07-25 00:00:...|           5648|   PENDING_PAYMENT|\n",
      "|           11|2013-07-25 00:00:...|            918|    PAYMENT_REVIEW|\n",
      "|           12|2013-07-25 00:00:...|           1837|            CLOSED|\n",
      "|           13|2013-07-25 00:00:...|           9149|   PENDING_PAYMENT|\n",
      "|           14|2013-07-25 00:00:...|           9842|        PROCESSING|\n",
      "|           15|2013-07-25 00:00:...|           2568|          COMPLETE|\n",
      "|           16|2013-07-25 00:00:...|           7276|   PENDING_PAYMENT|\n",
      "|           17|2013-07-25 00:00:...|           2667|          COMPLETE|\n",
      "|           18|2013-07-25 00:00:...|           1205|            CLOSED|\n",
      "|           19|2013-07-25 00:00:...|           9488|   PENDING_PAYMENT|\n",
      "|           20|2013-07-25 00:00:...|           9198|        PROCESSING|\n",
      "+-------------+--------------------+---------------+------------------+\n",
      "only showing top 20 rows\n",
      "\n"
     ]
    }
   ],
   "source": [
    "df.show()"
   ]
  },
  {
   "cell_type": "code",
   "execution_count": 28,
   "id": "e7fde680",
   "metadata": {},
   "outputs": [
    {
     "name": "stdout",
     "output_type": "stream",
     "text": [
      "root\n",
      " |-- order_id long: long (nullable = true)\n",
      " |-- order_date string: string (nullable = true)\n",
      " |-- cust_id integer: string (nullable = true)\n",
      " |-- orderstatus string: string (nullable = true)\n",
      "\n"
     ]
    }
   ],
   "source": [
    "df.printSchema()"
   ]
  },
  {
   "cell_type": "code",
   "execution_count": 29,
   "id": "0dcfdffe",
   "metadata": {},
   "outputs": [],
   "source": [
    "new_df = spark.createDataFrame(new_ordered_rdd).toDF('order_id', 'order_date', 'cust_id', 'order_status')"
   ]
  },
  {
   "cell_type": "code",
   "execution_count": 30,
   "id": "5e947216",
   "metadata": {},
   "outputs": [
    {
     "name": "stdout",
     "output_type": "stream",
     "text": [
      "+--------+--------------------+-------+---------------+\n",
      "|order_id|          order_date|cust_id|   order_status|\n",
      "+--------+--------------------+-------+---------------+\n",
      "|       1|2013-07-25 00:00:...|  11599|         CLOSED|\n",
      "|       2|2013-07-25 00:00:...|    256|PENDING_PAYMENT|\n",
      "|       3|2013-07-25 00:00:...|  12111|       COMPLETE|\n",
      "|       4|2013-07-25 00:00:...|   8827|         CLOSED|\n",
      "|       5|2013-07-25 00:00:...|  11318|       COMPLETE|\n",
      "|       6|2013-07-25 00:00:...|   7130|       COMPLETE|\n",
      "|       7|2013-07-25 00:00:...|   4530|       COMPLETE|\n",
      "|       8|2013-07-25 00:00:...|   2911|     PROCESSING|\n",
      "|       9|2013-07-25 00:00:...|   5657|PENDING_PAYMENT|\n",
      "|      10|2013-07-25 00:00:...|   5648|PENDING_PAYMENT|\n",
      "|      11|2013-07-25 00:00:...|    918| PAYMENT_REVIEW|\n",
      "|      12|2013-07-25 00:00:...|   1837|         CLOSED|\n",
      "|      13|2013-07-25 00:00:...|   9149|PENDING_PAYMENT|\n",
      "|      14|2013-07-25 00:00:...|   9842|     PROCESSING|\n",
      "|      15|2013-07-25 00:00:...|   2568|       COMPLETE|\n",
      "|      16|2013-07-25 00:00:...|   7276|PENDING_PAYMENT|\n",
      "|      17|2013-07-25 00:00:...|   2667|       COMPLETE|\n",
      "|      18|2013-07-25 00:00:...|   1205|         CLOSED|\n",
      "|      19|2013-07-25 00:00:...|   9488|PENDING_PAYMENT|\n",
      "|      20|2013-07-25 00:00:...|   9198|     PROCESSING|\n",
      "+--------+--------------------+-------+---------------+\n",
      "only showing top 20 rows\n",
      "\n"
     ]
    }
   ],
   "source": [
    "new_df.show()"
   ]
  },
  {
   "cell_type": "code",
   "execution_count": 31,
   "id": "ee84aebf",
   "metadata": {},
   "outputs": [
    {
     "name": "stdout",
     "output_type": "stream",
     "text": [
      "root\n",
      " |-- order_id: long (nullable = true)\n",
      " |-- order_date: string (nullable = true)\n",
      " |-- cust_id: string (nullable = true)\n",
      " |-- order_status: string (nullable = true)\n",
      "\n"
     ]
    }
   ],
   "source": [
    "new_df.printSchema()"
   ]
  },
  {
   "cell_type": "code",
   "execution_count": 32,
   "id": "d45d1bbf",
   "metadata": {},
   "outputs": [],
   "source": [
    "df = new_ordered_rdd.toDF(orders_schema)"
   ]
  },
  {
   "cell_type": "code",
   "execution_count": 33,
   "id": "8a7cfd56",
   "metadata": {},
   "outputs": [
    {
     "name": "stdout",
     "output_type": "stream",
     "text": [
      "+-------------+--------------------+---------------+------------------+\n",
      "|order_id long|   order_date string|cust_id integer|orderstatus string|\n",
      "+-------------+--------------------+---------------+------------------+\n",
      "|            1|2013-07-25 00:00:...|          11599|            CLOSED|\n",
      "|            2|2013-07-25 00:00:...|            256|   PENDING_PAYMENT|\n",
      "|            3|2013-07-25 00:00:...|          12111|          COMPLETE|\n",
      "|            4|2013-07-25 00:00:...|           8827|            CLOSED|\n",
      "|            5|2013-07-25 00:00:...|          11318|          COMPLETE|\n",
      "|            6|2013-07-25 00:00:...|           7130|          COMPLETE|\n",
      "|            7|2013-07-25 00:00:...|           4530|          COMPLETE|\n",
      "|            8|2013-07-25 00:00:...|           2911|        PROCESSING|\n",
      "|            9|2013-07-25 00:00:...|           5657|   PENDING_PAYMENT|\n",
      "|           10|2013-07-25 00:00:...|           5648|   PENDING_PAYMENT|\n",
      "|           11|2013-07-25 00:00:...|            918|    PAYMENT_REVIEW|\n",
      "|           12|2013-07-25 00:00:...|           1837|            CLOSED|\n",
      "|           13|2013-07-25 00:00:...|           9149|   PENDING_PAYMENT|\n",
      "|           14|2013-07-25 00:00:...|           9842|        PROCESSING|\n",
      "|           15|2013-07-25 00:00:...|           2568|          COMPLETE|\n",
      "|           16|2013-07-25 00:00:...|           7276|   PENDING_PAYMENT|\n",
      "|           17|2013-07-25 00:00:...|           2667|          COMPLETE|\n",
      "|           18|2013-07-25 00:00:...|           1205|            CLOSED|\n",
      "|           19|2013-07-25 00:00:...|           9488|   PENDING_PAYMENT|\n",
      "|           20|2013-07-25 00:00:...|           9198|        PROCESSING|\n",
      "+-------------+--------------------+---------------+------------------+\n",
      "only showing top 20 rows\n",
      "\n"
     ]
    }
   ],
   "source": [
    "df.show()"
   ]
  },
  {
   "cell_type": "code",
   "execution_count": null,
   "id": "7c391e2f",
   "metadata": {},
   "outputs": [],
   "source": []
  }
 ],
 "metadata": {
  "kernelspec": {
   "display_name": "Pyspark 3",
   "language": "python",
   "name": "pyspark3"
  },
  "language_info": {
   "codemirror_mode": {
    "name": "ipython",
    "version": 3
   },
   "file_extension": ".py",
   "mimetype": "text/x-python",
   "name": "python",
   "nbconvert_exporter": "python",
   "pygments_lexer": "ipython3",
   "version": "3.6.12"
  }
 },
 "nbformat": 4,
 "nbformat_minor": 5
}
